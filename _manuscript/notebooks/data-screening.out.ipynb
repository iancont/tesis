{
 "cells": [
  {
   "cell_type": "markdown",
   "metadata": {},
   "source": [
    "# \n",
    "\n",
    "Ian Contreras (Instituto Tecnológico de Santo Domingo)  \n",
    "3 de noviembre de 2024"
   ],
   "id": "f0730ec9-bfb1-4777-bd6c-cdae302edddf"
  }
 ],
 "nbformat": 4,
 "nbformat_minor": 5,
 "metadata": {}
}
