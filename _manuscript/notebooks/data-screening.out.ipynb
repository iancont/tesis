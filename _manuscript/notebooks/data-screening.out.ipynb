{
 "cells": [
  {
   "cell_type": "markdown",
   "metadata": {},
   "source": [
    "# \n",
    "\n",
    "Ian Contreras (Instituto Tecnológico de Santo Domingo)  \n",
    "3 de noviembre de 2024"
   ],
   "id": "2bbc0630-022e-488c-8cb7-8aa4fc12bb60"
  }
 ],
 "nbformat": 4,
 "nbformat_minor": 5,
 "metadata": {}
}
