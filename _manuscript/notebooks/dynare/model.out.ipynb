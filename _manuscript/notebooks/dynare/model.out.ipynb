{
 "cells": [
  {
   "cell_type": "markdown",
   "metadata": {},
   "source": [
    "# \n",
    "\n",
    "Ian Contreras (Instituto Tecnológico de Santo Domingo)  \n",
    "3 de noviembre de 2024"
   ],
   "id": "bd7fc3e7-32a1-4f50-9c73-19eb24f9cd03"
  }
 ],
 "nbformat": 4,
 "nbformat_minor": 5,
 "metadata": {}
}
