{
 "cells": [
  {
   "cell_type": "markdown",
   "metadata": {},
   "source": [
    "# \n",
    "\n",
    "Ian Contreras (Instituto Tecnológico de Santo Domingo)  \n",
    "20 de noviembre de 2024"
   ],
   "id": "f2445a93-d460-4d46-b39f-72139f5c6b15"
  }
 ],
 "nbformat": 4,
 "nbformat_minor": 5,
 "metadata": {}
}
