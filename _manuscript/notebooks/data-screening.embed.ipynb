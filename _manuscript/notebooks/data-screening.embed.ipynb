{
 "cells": [
  {
   "cell_type": "markdown",
   "metadata": {},
   "source": [
    "# \n",
    "\n",
    "Ian Contreras (Instituto Tecnológico de Santo Domingo)  \n",
    "3 de noviembre de 2024"
   ],
   "id": "d57479ff-565b-4ed5-8332-4e792a480db2"
  }
 ],
 "nbformat": 4,
 "nbformat_minor": 5,
 "metadata": {}
}
