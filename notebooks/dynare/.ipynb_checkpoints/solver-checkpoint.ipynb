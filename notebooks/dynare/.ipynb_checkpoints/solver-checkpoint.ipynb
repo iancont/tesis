{
 "cells": [
  {
   "cell_type": "code",
   "execution_count": 9,
   "metadata": {
    "vscode": {
     "languageId": "julia"
    }
   },
   "outputs": [
    {
     "data": {
      "text/html": [
       "<html>\\(\\displaystyle \\mathit{LAMBDA}_{2} = \\frac{\\beta^{t} \\gamma_{y} y_{\\mathit{gap}} - {\\left(\\beta^{t} \\gamma_{r} r - \\beta^{t - 1} \\gamma_{r} r_{\\mathit{lag}} - \\beta^{t} \\gamma_{r} r_{\\mathit{nat}} + \\beta^{t - 1} \\gamma_{r} r_{\\mathit{nat}_{\\mathit{lag}}}\\right)} \\sigma_{\\alpha}}{\\beta^{t} \\kappa}\\)</html>"
      ],
      "text/latex": [
       "$\\displaystyle \\mathit{LAMBDA}_{2} = \\frac{\\beta^{t} \\gamma_{y} y_{\\mathit{gap}} - {\\left(\\beta^{t} \\gamma_{r} r - \\beta^{t - 1} \\gamma_{r} r_{\\mathit{lag}} - \\beta^{t} \\gamma_{r} r_{\\mathit{nat}} + \\beta^{t - 1} \\gamma_{r} r_{\\mathit{nat}_{\\mathit{lag}}}\\right)} \\sigma_{\\alpha}}{\\beta^{t} \\kappa}$"
      ],
      "text/plain": [
       "LAMBDA_2 == (beta^t*gamma_y*y_gap - (beta^t*gamma_r*r - beta^(t - 1)*gamma_r*r_lag - beta^t*gamma_r*r_nat + beta^(t - 1)*gamma_r*r_nat_lag)*sigma_alpha)/(beta^t*kappa)"
      ]
     },
     "metadata": {},
     "output_type": "display_data"
    }
   ],
   "source": [
    "beta, gamma_y, gamma_r, sigma_alpha, kappa = var(\"beta gamma_y gamma_r sigma_alpha kappa\")\n",
    "y_gap, r, r_nat, r_lag, r_nat_lag = var(\"y_gap r r_nat r_lag r_nat_lag\")\n",
    "LAMBDA_2 = var(\"LAMBDA_2\")\n",
    "t = var(\"t\")\n",
    "\n",
    "eq = (\n",
    "    beta**t * gamma_y * y_gap \n",
    "    + beta**t*(-sigma_alpha*gamma_r*(r-r_nat))\n",
    "    - beta **(t-1) * (-sigma_alpha*gamma_r*(r_lag-r_nat_lag))\n",
    "    - beta**t * kappa * LAMBDA_2 ==0\n",
    ")\n",
    "result = solve(eq,LAMBDA_2)\n",
    "pretty_print(result[0])"
   ]
  }
 ],
 "metadata": {
  "kernelspec": {
   "display_name": "SageMath 10.4",
   "language": "sage",
   "name": "sagemath"
  },
  "language_info": {
   "codemirror_mode": {
    "name": "ipython",
    "version": 3
   },
   "file_extension": ".py",
   "mimetype": "text/x-python",
   "name": "python",
   "nbconvert_exporter": "python",
   "pygments_lexer": "ipython3",
   "version": "3.12.8"
  }
 },
 "nbformat": 4,
 "nbformat_minor": 2
}
