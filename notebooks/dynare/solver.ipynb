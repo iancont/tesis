{
 "cells": [
  {
   "cell_type": "code",
   "execution_count": 11,
   "metadata": {
    "vscode": {
     "languageId": "julia"
    }
   },
   "outputs": [],
   "source": [
    "beta, gamma_y, gamma_r, sigma_alpha, kappa = var(\"beta gamma_y gamma_r sigma_alpha kappa\")\n",
    "y_gap, r, r_nat, r_lag, r_nat_lag = var(\"y_gap r r_nat r_lag r_nat_lag\")\n",
    "LAMBDA_2 = var(\"LAMBDA_2\")\n",
    "t = var(\"t\")\n",
    "\n",
    "eq = (\n",
    "    beta**t * gamma_y * y_gap \n",
    "    + beta**t*(-sigma_alpha*gamma_r*(r-r_nat))\n",
    "    - beta **(t-1) * (-sigma_alpha*gamma_r*(r_lag-r_nat))\n",
    "    - beta**t * kappa * LAMBDA_2 ==0\n",
    ")\n",
    "result = solve(eq,LAMBDA_2)"
   ]
  },
  {
   "cell_type": "code",
   "execution_count": 12,
   "metadata": {
    "vscode": {
     "languageId": "python"
    }
   },
   "outputs": [
    {
     "data": {
      "text/html": [
       "<html>\\(\\displaystyle \\mathit{LAMBDA}_{2} = \\frac{\\beta^{t} \\gamma_{y} y_{\\mathit{gap}} - {\\left(\\beta^{t} \\gamma_{r} r - \\beta^{t - 1} \\gamma_{r} r_{\\mathit{lag}} + {\\left(\\beta^{t - 1} - \\beta^{t}\\right)} \\gamma_{r} r_{\\mathit{nat}}\\right)} \\sigma_{\\alpha}}{\\beta^{t} \\kappa}\\)</html>"
      ],
      "text/latex": [
       "$\\displaystyle \\mathit{LAMBDA}_{2} = \\frac{\\beta^{t} \\gamma_{y} y_{\\mathit{gap}} - {\\left(\\beta^{t} \\gamma_{r} r - \\beta^{t - 1} \\gamma_{r} r_{\\mathit{lag}} + {\\left(\\beta^{t - 1} - \\beta^{t}\\right)} \\gamma_{r} r_{\\mathit{nat}}\\right)} \\sigma_{\\alpha}}{\\beta^{t} \\kappa}$"
      ],
      "text/plain": [
       "LAMBDA_2 == (beta^t*gamma_y*y_gap - (beta^t*gamma_r*r - beta^(t - 1)*gamma_r*r_lag + (beta^(t - 1) - beta^t)*gamma_r*r_nat)*sigma_alpha)/(beta^t*kappa)"
      ]
     },
     "metadata": {},
     "output_type": "display_data"
    }
   ],
   "source": [
    "pretty_print(result[0])"
   ]
  },
  {
   "cell_type": "code",
   "execution_count": 13,
   "metadata": {
    "vscode": {
     "languageId": "python"
    }
   },
   "outputs": [
    {
     "data": {
      "text/html": [
       "<html>\\(\\displaystyle \\mathit{LAMBDA}_{2} = \\frac{\\beta \\gamma_{y} y_{\\mathit{gap}} - {\\left(\\beta \\gamma_{r} r - {\\left(\\beta - 1\\right)} \\gamma_{r} r_{\\mathit{nat}} - \\gamma_{r} r_{\\mathit{lag}}\\right)} \\sigma_{\\alpha}}{\\beta \\kappa}\\)</html>"
      ],
      "text/latex": [
       "$\\displaystyle \\mathit{LAMBDA}_{2} = \\frac{\\beta \\gamma_{y} y_{\\mathit{gap}} - {\\left(\\beta \\gamma_{r} r - {\\left(\\beta - 1\\right)} \\gamma_{r} r_{\\mathit{nat}} - \\gamma_{r} r_{\\mathit{lag}}\\right)} \\sigma_{\\alpha}}{\\beta \\kappa}$"
      ],
      "text/plain": [
       "LAMBDA_2 == (beta*gamma_y*y_gap - (beta*gamma_r*r - (beta - 1)*gamma_r*r_nat - gamma_r*r_lag)*sigma_alpha)/(beta*kappa)"
      ]
     },
     "metadata": {},
     "output_type": "display_data"
    }
   ],
   "source": [
    "pretty_print(result[0].full_simplify())"
   ]
  },
  {
   "cell_type": "code",
   "execution_count": 14,
   "metadata": {
    "vscode": {
     "languageId": "python"
    }
   },
   "outputs": [],
   "source": [
    "beta, gamma_y, gamma_r, gamma_pi, sigma_alpha, kappa = var(\"beta gamma_y gamma_r gamma_pi sigma_alpha kappa\")\n",
    "y_gap, r, r_nat, r_lag, pi_h = var(\"y_gap r r_nat r_lag pi_h\")\n",
    "y_gap_lag, r_lag_2= var(\"y_gap_lag r_lag_2\")\n",
    "LAMBDA_1, LAMBDA_1_LAG, LAMBDA_2, LAMBDA_2_LAG = var(\"LAMBDA_1 LAMBDA_1_LAG LAMBDA_2 LAMBDA_2_LAG\")\n",
    "t = var(\"t\")\n",
    "\n",
    "LAMBDA_1 = - sigma_alpha * gamma_r * (r-r_nat)\n",
    "LAMBDA_1_LAG = - sigma_alpha * gamma_r * (r_lag-r_nat)\n",
    "LAMBDA_2 = (beta*kappa)**(-1)*(beta * gamma_y * y_gap - (beta * gamma_r * r - (beta-1)* gamma_r * r_nat - gamma_r * r_lag)*sigma_alpha)\n",
    "LAMBDA_2_LAG= (beta*kappa)**(-1)*(beta * gamma_y * y_gap - (beta * gamma_r * r_lag - (beta-1)* gamma_r * r_nat - gamma_r * r_lag_2)*sigma_alpha)\n",
    "\n",
    "eq = beta**t*gamma_pi * pi_h - beta**(t-1) * LAMBDA_1_LAG * sigma_alpha**(-1) + beta**t*LAMBDA_2 - beta**(t-1) * beta * LAMBDA_2_LAG == 0\n",
    "\n",
    "result = solve(eq, r)"
   ]
  },
  {
   "cell_type": "code",
   "execution_count": 18,
   "metadata": {
    "vscode": {
     "languageId": "python"
    }
   },
   "outputs": [
    {
     "data": {
      "text/html": [
       "<html>\\(\\displaystyle r = \\frac{\\beta \\gamma_{\\pi} \\kappa \\pi_{h} + \\gamma_{r} \\kappa r_{\\mathit{lag}} - \\gamma_{r} \\kappa r_{\\mathit{nat}} + {\\left({\\left(\\beta + 1\\right)} \\gamma_{r} r_{\\mathit{lag}} - \\gamma_{r} r_{\\mathit{lag}_{2}}\\right)} \\sigma_{\\alpha}}{\\beta \\gamma_{r} \\sigma_{\\alpha}}\\)</html>"
      ],
      "text/latex": [
       "$\\displaystyle r = \\frac{\\beta \\gamma_{\\pi} \\kappa \\pi_{h} + \\gamma_{r} \\kappa r_{\\mathit{lag}} - \\gamma_{r} \\kappa r_{\\mathit{nat}} + {\\left({\\left(\\beta + 1\\right)} \\gamma_{r} r_{\\mathit{lag}} - \\gamma_{r} r_{\\mathit{lag}_{2}}\\right)} \\sigma_{\\alpha}}{\\beta \\gamma_{r} \\sigma_{\\alpha}}$"
      ],
      "text/plain": [
       "r == (beta*gamma_pi*kappa*pi_h + gamma_r*kappa*r_lag - gamma_r*kappa*r_nat + ((beta + 1)*gamma_r*r_lag - gamma_r*r_lag_2)*sigma_alpha)/(beta*gamma_r*sigma_alpha)"
      ]
     },
     "metadata": {},
     "output_type": "display_data"
    }
   ],
   "source": [
    "pretty_print(result[0].full_simplify())"
   ]
  },
  {
   "cell_type": "code",
   "execution_count": 16,
   "metadata": {
    "vscode": {
     "languageId": "python"
    }
   },
   "outputs": [
    {
     "data": {
      "text/html": [
       "<html>\\(\\displaystyle \\frac{\\beta \\gamma_{y} y_{\\mathit{gap}} - {\\left(\\beta \\gamma_{r} r - {\\left(\\beta - 1\\right)} \\gamma_{r} r_{\\mathit{nat}} - \\gamma_{r} r_{\\mathit{lag}}\\right)} \\sigma_{\\alpha}}{\\beta \\kappa}\\)</html>"
      ],
      "text/latex": [
       "$\\displaystyle \\frac{\\beta \\gamma_{y} y_{\\mathit{gap}} - {\\left(\\beta \\gamma_{r} r - {\\left(\\beta - 1\\right)} \\gamma_{r} r_{\\mathit{nat}} - \\gamma_{r} r_{\\mathit{lag}}\\right)} \\sigma_{\\alpha}}{\\beta \\kappa}$"
      ],
      "text/plain": [
       "(beta*gamma_y*y_gap - (beta*gamma_r*r - (beta - 1)*gamma_r*r_nat - gamma_r*r_lag)*sigma_alpha)/(beta*kappa)"
      ]
     },
     "metadata": {},
     "output_type": "display_data"
    }
   ],
   "source": [
    "pretty_print(LAMBDA_2)"
   ]
  },
  {
   "cell_type": "code",
   "execution_count": 9,
   "metadata": {
    "vscode": {
     "languageId": "python"
    }
   },
   "outputs": [
    {
     "data": {
      "text/html": [
       "<html>\\(\\displaystyle \\frac{\\beta \\gamma_{y} y_{\\mathit{gap}_{\\mathit{lag}}} - {\\left(\\beta \\gamma_{r} {\\left(r_{\\mathit{lag}} - r_{\\mathit{nat}_{\\mathit{lag}}}\\right)} - \\gamma_{r} {\\left(r_{\\mathit{lag}_{2}} - r_{\\mathit{nat}_{\\mathit{lag}_{2}}}\\right)}\\right)} \\sigma_{\\alpha}}{\\beta \\kappa}\\)</html>"
      ],
      "text/latex": [
       "$\\displaystyle \\frac{\\beta \\gamma_{y} y_{\\mathit{gap}_{\\mathit{lag}}} - {\\left(\\beta \\gamma_{r} {\\left(r_{\\mathit{lag}} - r_{\\mathit{nat}_{\\mathit{lag}}}\\right)} - \\gamma_{r} {\\left(r_{\\mathit{lag}_{2}} - r_{\\mathit{nat}_{\\mathit{lag}_{2}}}\\right)}\\right)} \\sigma_{\\alpha}}{\\beta \\kappa}$"
      ],
      "text/plain": [
       "(beta*gamma_y*y_gap_lag - (beta*gamma_r*(r_lag - r_nat_lag) - gamma_r*(r_lag_2 - r_nat_lag_2))*sigma_alpha)/(beta*kappa)"
      ]
     },
     "metadata": {},
     "output_type": "display_data"
    }
   ],
   "source": [
    "pretty_print(LAMBDA_2_LAG)"
   ]
  }
 ],
 "metadata": {
  "kernelspec": {
   "display_name": "SageMath 10.4",
   "language": "sage",
   "name": "sagemath"
  },
  "language_info": {
   "codemirror_mode": {
    "name": "ipython",
    "version": 3
   },
   "file_extension": ".py",
   "mimetype": "text/x-python",
   "name": "sage",
   "nbconvert_exporter": "python",
   "pygments_lexer": "ipython3",
   "version": "3.12.8"
  }
 },
 "nbformat": 4,
 "nbformat_minor": 4
}
