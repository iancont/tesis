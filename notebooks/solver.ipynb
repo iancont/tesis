{
 "cells": [
  {
   "cell_type": "markdown",
   "metadata": {},
   "source": [
    "Nash Monetario"
   ]
  },
  {
   "cell_type": "code",
   "execution_count": 39,
   "metadata": {
    "scrolled": true
   },
   "outputs": [
    {
     "name": "stdout",
     "output_type": "stream",
     "text": [
      "Solution for r_t:\n"
     ]
    },
    {
     "data": {
      "text/latex": [
       "$\\displaystyle \\frac{\\beta^{- t} \\left(\\beta^{2 t} \\gamma_{\\pi} \\kappa \\pi_{t} + \\beta^{2 t} \\gamma_{r} r_{t lag} \\sigma_{\\alpha} + \\beta^{2 t} \\gamma_{y} y_{t} - \\beta^{2 t} \\gamma_{y} y_{t lag} - \\beta^{2 t - 1} \\gamma_{r} \\kappa r_{nat} + \\beta^{2 t - 1} \\gamma_{r} r_{t lag} \\sigma_{\\alpha} - \\beta^{2 t - 1} \\gamma_{r} r_{t lag 2} \\sigma_{\\alpha}\\right)}{\\gamma_{r} \\left(\\beta^{t} \\sigma_{\\alpha} - \\beta^{t - 1} \\kappa\\right)}$"
      ],
      "text/plain": [
       "(beta**(2*t)*gamma_pi*kappa*pi_t + beta**(2*t)*gamma_r*r_t_lag*sigma_alpha + beta**(2*t)*gamma_y*y_t - beta**(2*t)*gamma_y*y_t_lag - beta**(2*t - 1)*gamma_r*kappa*r_nat + beta**(2*t - 1)*gamma_r*r_t_lag*sigma_alpha - beta**(2*t - 1)*gamma_r*r_t_lag_2*sigma_alpha)/(beta**t*gamma_r*(beta**t*sigma_alpha - beta**(t - 1)*kappa))"
      ]
     },
     "execution_count": 39,
     "metadata": {},
     "output_type": "execute_result"
    }
   ],
   "source": [
    "from sympy import Eq, symbols, solve, simplify, apart, collect\n",
    "from sympy.printing.latex import print_latex\n",
    "\n",
    "# parameters\n",
    "beta, gamma_pi, gamma_y, gamma_r, sigma_alpha, kappa = symbols('beta gamma_pi gamma_y gamma_r sigma_alpha kappa')\n",
    "# variables\n",
    "pi_t, y_t, r_t, r_nat = symbols('pi_t y_t r_t r_nat')\n",
    "# 1 lag variables\n",
    "y_t_lag, r_t_lag, r_t_lag_2 = symbols('y_t_lag r_t_lag r_t_lag_2')\n",
    "# lambdas\n",
    "lambda_1_t, lambda_2_t, lambda_1_t_lag, lambda_2_t_lag = symbols('lambda_1_t lambda_2_t lambda_1_t_lag lambda_2_t_lag')\n",
    "# t\n",
    "t = symbols('t')\n",
    "\n",
    "# Foc\n",
    "pi_foc = Eq(beta**t * gamma_pi * pi_t - beta **(t-1) * lambda_1_t * sigma_alpha**(-1) + beta **(t) * lambda_2_t - beta **(t-1) * lambda_2_t_lag * beta, 0 )\n",
    "y_foc = Eq(beta**t * gamma_y * y_t + beta **(t) * lambda_1_t - beta **(t-1)* lambda_1_t_lag - beta ** t * kappa * lambda_2_t, 0)\n",
    "\n",
    "# Define lambda equations\n",
    "lambda_1_t_eq = Eq(lambda_1_t, -sigma_alpha * gamma_r * (r_t - r_nat))\n",
    "lambda_1_t_lag_eq = Eq(lambda_1_t_lag, -sigma_alpha * gamma_r * (r_t_lag - r_nat))\n",
    "\n",
    "# Substitute lambda_1_t and lambda_1_t_lag definitions into y_foc\n",
    "y_foc_subst = y_foc.subs(\n",
    "    {lambda_1_t: lambda_1_t_eq.rhs, lambda_1_t_lag: lambda_1_t_lag_eq.rhs}\n",
    ")\n",
    "\n",
    "# solve for lambda_2_t\n",
    "lambda_2_t_eq = Eq(lambda_2_t,solve(y_foc_subst, lambda_2_t)[0])\n",
    "lambda_2_t_lag_eq = lambda_2_t_eq.subs({r_t_lag: r_t_lag_2}).subs({r_t: r_t_lag,y_t: y_t_lag})\n",
    "\n",
    "# solve for r_t\n",
    "pi_foc_subst = pi_foc.subs(\n",
    "    {lambda_1_t: lambda_1_t_eq.rhs, lambda_2_t: lambda_2_t_eq.rhs, lambda_2_t_lag: lambda_2_t_lag_eq.rhs}\n",
    ")\n",
    "\n",
    "# Final solution\n",
    "solution = solve(pi_foc_subst, r_t)\n",
    "print(\"Solution for r_t:\")\n",
    "solution[0]\n"
   ]
  },
  {
   "cell_type": "code",
   "execution_count": 48,
   "metadata": {},
   "outputs": [
    {
     "data": {
      "text/latex": [
       "$\\displaystyle \\frac{\\beta^{2 t} \\gamma_{\\pi} \\kappa \\pi_{t}}{\\beta^{2 t} \\gamma_{r} \\sigma_{\\alpha} - \\beta^{t} \\beta^{t - 1} \\gamma_{r} \\kappa} + \\frac{\\beta^{2 t} \\gamma_{y} y_{t}}{\\beta^{2 t} \\gamma_{r} \\sigma_{\\alpha} - \\beta^{t} \\beta^{t - 1} \\gamma_{r} \\kappa} - \\frac{\\beta^{2 t} \\gamma_{y} y_{t lag}}{\\beta^{2 t} \\gamma_{r} \\sigma_{\\alpha} - \\beta^{t} \\beta^{t - 1} \\gamma_{r} \\kappa} - \\frac{\\beta^{2 t - 1} \\gamma_{r} \\kappa r_{nat}}{\\beta^{2 t} \\gamma_{r} \\sigma_{\\alpha} - \\beta^{t} \\beta^{t - 1} \\gamma_{r} \\kappa} - \\frac{\\beta^{2 t - 1} \\gamma_{r} r_{t lag 2} \\sigma_{\\alpha}}{\\beta^{2 t} \\gamma_{r} \\sigma_{\\alpha} - \\beta^{t} \\beta^{t - 1} \\gamma_{r} \\kappa} + r_{t lag} \\left(\\frac{\\beta^{2 t} \\gamma_{r} \\sigma_{\\alpha}}{\\beta^{2 t} \\gamma_{r} \\sigma_{\\alpha} - \\beta^{t} \\beta^{t - 1} \\gamma_{r} \\kappa} + \\frac{\\beta^{2 t - 1} \\gamma_{r} \\sigma_{\\alpha}}{\\beta^{2 t} \\gamma_{r} \\sigma_{\\alpha} - \\beta^{t} \\beta^{t - 1} \\gamma_{r} \\kappa}\\right)$"
      ],
      "text/plain": [
       "beta**(2*t)*gamma_pi*kappa*pi_t/(beta**(2*t)*gamma_r*sigma_alpha - beta**t*beta**(t - 1)*gamma_r*kappa) + beta**(2*t)*gamma_y*y_t/(beta**(2*t)*gamma_r*sigma_alpha - beta**t*beta**(t - 1)*gamma_r*kappa) - beta**(2*t)*gamma_y*y_t_lag/(beta**(2*t)*gamma_r*sigma_alpha - beta**t*beta**(t - 1)*gamma_r*kappa) - beta**(2*t - 1)*gamma_r*kappa*r_nat/(beta**(2*t)*gamma_r*sigma_alpha - beta**t*beta**(t - 1)*gamma_r*kappa) - beta**(2*t - 1)*gamma_r*r_t_lag_2*sigma_alpha/(beta**(2*t)*gamma_r*sigma_alpha - beta**t*beta**(t - 1)*gamma_r*kappa) + r_t_lag*(beta**(2*t)*gamma_r*sigma_alpha/(beta**(2*t)*gamma_r*sigma_alpha - beta**t*beta**(t - 1)*gamma_r*kappa) + beta**(2*t - 1)*gamma_r*sigma_alpha/(beta**(2*t)*gamma_r*sigma_alpha - beta**t*beta**(t - 1)*gamma_r*kappa))"
      ]
     },
     "execution_count": 48,
     "metadata": {},
     "output_type": "execute_result"
    }
   ],
   "source": [
    "from sympy import collect\n",
    "variables = [pi_t, y_t, r_t, r_nat,y_t_lag, r_t_lag, r_t_lag_2 ]\n",
    "collect(solution[0].expand(), variables)"
   ]
  },
  {
   "cell_type": "code",
   "execution_count": 49,
   "metadata": {},
   "outputs": [
    {
     "data": {
      "text/latex": [
       "$\\displaystyle \\lambda_{2 t} = \\frac{\\beta^{- t} \\left(\\beta^{t} \\left(\\gamma_{r} r_{nat} \\sigma_{\\alpha} - \\gamma_{r} r_{t} \\sigma_{\\alpha} + \\gamma_{y} y_{t}\\right) + \\beta^{t - 1} \\gamma_{r} \\sigma_{\\alpha} \\left(- r_{nat} + r_{t lag}\\right)\\right)}{\\kappa}$"
      ],
      "text/plain": [
       "Eq(lambda_2_t, (beta**t*(gamma_r*r_nat*sigma_alpha - gamma_r*r_t*sigma_alpha + gamma_y*y_t) + beta**(t - 1)*gamma_r*sigma_alpha*(-r_nat + r_t_lag))/(beta**t*kappa))"
      ]
     },
     "execution_count": 49,
     "metadata": {},
     "output_type": "execute_result"
    }
   ],
   "source": [
    "lambda_2_t_eq "
   ]
  },
  {
   "cell_type": "code",
   "execution_count": null,
   "metadata": {},
   "outputs": [],
   "source": []
  }
 ],
 "metadata": {
  "kernelspec": {
   "display_name": "intec",
   "language": "python",
   "name": "python3"
  },
  "language_info": {
   "codemirror_mode": {
    "name": "ipython",
    "version": 3
   },
   "file_extension": ".py",
   "mimetype": "text/x-python",
   "name": "python",
   "nbconvert_exporter": "python",
   "pygments_lexer": "ipython3",
   "version": "3.12.8"
  }
 },
 "nbformat": 4,
 "nbformat_minor": 4
}
