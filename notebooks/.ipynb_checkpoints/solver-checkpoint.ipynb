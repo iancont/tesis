{
 "cells": [
  {
   "cell_type": "markdown",
   "metadata": {},
   "source": [
    "Nash Monetario"
   ]
  },
  {
   "cell_type": "code",
   "execution_count": 3,
   "metadata": {},
   "outputs": [
    {
     "name": "stdout",
     "output_type": "stream",
     "text": [
      "\\frac{\\beta^{- t} \\left(\\beta^{t} \\left(\\gamma_{r} r_{nat} \\sigma_{\\alpha} - \\gamma_{r} r_{t} \\sigma_{\\alpha} + \\gamma_{y} y_{t}\\right) + \\beta^{t - 1} \\gamma_{r} \\sigma_{\\alpha} \\left(- r_{nat} + r_{t lag}\\right)\\right)}{\\kappa}\n"
     ]
    }
   ],
   "source": [
    "from sympy import Eq, symbols, solve\n",
    "from sympy.printing.latex import print_latex\n",
    "\n",
    "# parameters\n",
    "beta, gamma_pi, gamma_y, gamma_r, sigma_alpha, kappa = symbols('beta gamma_pi gamma_y gamma_r sigma_alpha kappa')\n",
    "# variables\n",
    "pi_t, y_t, r_t, r_nat = symbols('pi_t y_t r_t r_nat')\n",
    "# 1 lag variables\n",
    "y_t_lag, r_t_lag, r_t_lag_2 = symbols('y_t_lag r_t_lag r_t_lag_2')\n",
    "# lambdas\n",
    "lambda_1_t, lambda_2_t, lambda_1_t_lag, lambda_2_t_lag = symbols('lambda_1_t lambda_2_t lambda_1_t_lag lambda_2_t_lag')\n",
    "# t\n",
    "t = symbols('t')\n",
    "\n",
    "# Foc\n",
    "pi_foc = Eq(beta**t * gamma_pi * pi_t - beta **(t-1) * lambda_1_t * sigma_alpha**(-1) + beta **(t) * lambda_2_t - beta **(t-1) * lambda_2_t_lag * beta, 0 )\n",
    "y_foc = Eq(beta**t * gamma_y * y_t + beta **(t) * lambda_1_t - beta **(t-1)* lambda_1_t_lag - beta ** t * kappa * lambda_2_t, 0)\n",
    "\n",
    "lambda_1_t_def = Eq(lambda_1_t, -sigma_alpha * gamma_r * (r_t - r_nat))\n",
    "lambda_1_t_lag_def = Eq(lambda_1_t_lag, -sigma_alpha * gamma_r * (r_t_lag - r_nat))\n",
    "\n",
    "# Substitute lambda_1_t and lambda_1_t_lag definitions into y_foc\n",
    "y_foc_subst = y_foc.subs(\n",
    "    {lambda_1_t: lambda_1_t_def.rhs, lambda_1_t_lag: lambda_1_t_lag_def.rhs}\n",
    ")\n",
    "\n",
    "# solve for lambda_2_t\n",
    "\n",
    "lambda_2_t = solve(y_foc_subst, lambda_2_t)\n",
    "print_latex(lambda_2_t[0])\n",
    "\n",
    "\n"
   ]
  },
  {
   "cell_type": "code",
   "execution_count": null,
   "metadata": {},
   "outputs": [],
   "source": []
  },
  {
   "cell_type": "markdown",
   "metadata": {},
   "source": []
  }
 ],
 "metadata": {
  "kernelspec": {
   "display_name": "intec",
   "language": "python",
   "name": "python3"
  },
  "language_info": {
   "codemirror_mode": {
    "name": "ipython",
    "version": 3
   },
   "file_extension": ".py",
   "mimetype": "text/x-python",
   "name": "python",
   "nbconvert_exporter": "python",
   "pygments_lexer": "ipython3",
   "version": "3.12.8"
  }
 },
 "nbformat": 4,
 "nbformat_minor": 2
}
